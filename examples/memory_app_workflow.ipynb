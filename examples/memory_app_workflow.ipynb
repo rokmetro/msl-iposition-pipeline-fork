{
 "cells": [
  {
   "cell_type": "markdown",
   "metadata": {},
   "source": [
    "# Memory App API Workflow\n",
    "This section demonstrates memoynosis analysis workflow"
   ]
  },
  {
   "cell_type": "code",
   "execution_count": 9,
   "metadata": {},
   "outputs": [],
   "source": [
    "#this is a manual move to set path to upper level folder in order to import files from other subdirectories\n",
    "import sys\n",
    "sys.path.insert(0, '..')"
   ]
  },
  {
   "cell_type": "code",
   "execution_count": 10,
   "metadata": {},
   "outputs": [],
   "source": [
    "# Import the library functions we're using\n",
    "from cogrecon.core.full_pipeline import full_pipeline\n",
    "from cogrecon.core.data_structures import TrialData, ParticipantData, AnalysisConfiguration\n",
    "from cogrecon.core.tools import generate_random_test_points\n",
    "# Set up visualization via matplotlib\n",
    "%matplotlib inline"
   ]
  },
  {
   "cell_type": "code",
   "execution_count": 11,
   "metadata": {},
   "outputs": [],
   "source": [
    "#these variables will take in the matrix that our API passes in\n",
    "actual_coordinates, data_coordinates = generate_random_test_points()"
   ]
  },
  {
   "cell_type": "code",
   "execution_count": 12,
   "metadata": {},
   "outputs": [
    {
     "name": "stderr",
     "output_type": "stream",
     "text": [
      "2023-08-15 11:39:07 Yuanruis-MacBook-Pro.local root[18363] INFO ['test', -1] : The transformation function did not reduce the error, removing rotation and retying (old_error=0.5973589354769405, new_error=0.6368549879699301).\n"
     ]
    }
   ],
   "source": [
    "data = ParticipantData([TrialData(actual_coordinates, data_coordinates)])\n",
    "config = AnalysisConfiguration(debug_labels=['test', -1])\n",
    "dict_result = full_pipeline(data, config, visualize=False, visualization_extent=[[0., 1.], [0., 1.]], single_trial=True, return_as_dict=True)"
   ]
  }
 ],
 "metadata": {
  "kernelspec": {
   "display_name": "msl3114",
   "language": "python",
   "name": "python3"
  },
  "language_info": {
   "codemirror_mode": {
    "name": "ipython",
    "version": 3
   },
   "file_extension": ".py",
   "mimetype": "text/x-python",
   "name": "python",
   "nbconvert_exporter": "python",
   "pygments_lexer": "ipython3",
   "version": "3.11.4"
  },
  "orig_nbformat": 4
 },
 "nbformat": 4,
 "nbformat_minor": 2
}
